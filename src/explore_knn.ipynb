{
  "cells": [
    {
      "cell_type": "markdown",
      "metadata": {
        "id": "CuEDi-anFP6X"
      },
      "source": [
        "# K-nearest neighbors Project Tutorial\n",
        "\n",
        "In this guided project we will learn how to build a simple movie recommender system using k-nearest neighbors algorithm.\n",
        "\n",
        "The aim is to answer if can we predict which films will be highly rated, even if they are not a commercial success?"
      ]
    },
    {
      "cell_type": "markdown",
      "metadata": {
        "id": "S511aL2U3nsg"
      },
      "source": [
        "## Importing Libraries"
      ]
    },
    {
      "cell_type": "code",
      "execution_count": 1,
      "metadata": {
        "id": "b3co25gYD6b7"
      },
      "outputs": [],
      "source": [
        "### Load libraries and modules ###\n",
        "# Dataframes and matrices ----------------------------------------------\n",
        "import pandas as pd \n",
        "import numpy as np\n",
        "import ast\n",
        "# Graphics -------------------------------------------------------------\n",
        "import matplotlib.pyplot as plt\n",
        "import seaborn as sns\n",
        "%matplotlib inline\n",
        "# Machine learning -----------------------------------------------------\n",
        "from sklearn.feature_extraction.text import CountVectorizer\n",
        "# Metrics --------------------------------------------------------------\n",
        "from sklearn.metrics.pairwise import cosine_similarity"
      ]
    },
    {
      "cell_type": "markdown",
      "metadata": {
        "id": "EGs2DEHMGDlj"
      },
      "source": [
        "## Loading the datasets"
      ]
    },
    {
      "cell_type": "markdown",
      "metadata": {
        "id": "v1_if_jHFouf"
      },
      "source": [
        "This datasets are a subset of the huge TMDB Movie Database API, containing only 5000 movies from the total number."
      ]
    },
    {
      "cell_type": "code",
      "execution_count": 2,
      "metadata": {
        "id": "YjFyED_6EA30"
      },
      "outputs": [],
      "source": [
        "movies = pd.read_csv('https://raw.githubusercontent.com/4GeeksAcademy/k-nearest-neighbors-project-tutorial/main/tmdb_5000_movies.csv')\n",
        "credits = pd.read_csv('https://raw.githubusercontent.com/4GeeksAcademy/k-nearest-neighbors-project-tutorial/main/tmdb_5000_credits.csv')"
      ]
    },
    {
      "cell_type": "markdown",
      "metadata": {
        "id": "N1LGbGaA5Heq"
      },
      "source": [
        "## Data Exploration"
      ]
    },
    {
      "cell_type": "code",
      "execution_count": 3,
      "metadata": {
        "colab": {
          "base_uri": "https://localhost:8080/",
          "height": 774
        },
        "id": "jdpsw1bkED6a",
        "outputId": "d89d747e-6cf1-47fa-b980-e0e3a0c5c047"
      },
      "outputs": [
        {
          "data": {
            "text/html": [
              "\n",
              "  <div id=\"df-9c1e8851-25b6-4cdc-bd7f-23ccb7adf9c7\">\n",
              "    <div class=\"colab-df-container\">\n",
              "      <div>\n",
              "<style scoped>\n",
              "    .dataframe tbody tr th:only-of-type {\n",
              "        vertical-align: middle;\n",
              "    }\n",
              "\n",
              "    .dataframe tbody tr th {\n",
              "        vertical-align: top;\n",
              "    }\n",
              "\n",
              "    .dataframe thead th {\n",
              "        text-align: right;\n",
              "    }\n",
              "</style>\n",
              "<table border=\"1\" class=\"dataframe\">\n",
              "  <thead>\n",
              "    <tr style=\"text-align: right;\">\n",
              "      <th></th>\n",
              "      <th>budget</th>\n",
              "      <th>genres</th>\n",
              "      <th>homepage</th>\n",
              "      <th>id</th>\n",
              "      <th>keywords</th>\n",
              "      <th>original_language</th>\n",
              "      <th>original_title</th>\n",
              "      <th>overview</th>\n",
              "      <th>popularity</th>\n",
              "      <th>production_companies</th>\n",
              "      <th>production_countries</th>\n",
              "      <th>release_date</th>\n",
              "      <th>revenue</th>\n",
              "      <th>runtime</th>\n",
              "      <th>spoken_languages</th>\n",
              "      <th>status</th>\n",
              "      <th>tagline</th>\n",
              "      <th>title</th>\n",
              "      <th>vote_average</th>\n",
              "      <th>vote_count</th>\n",
              "    </tr>\n",
              "  </thead>\n",
              "  <tbody>\n",
              "    <tr>\n",
              "      <th>0</th>\n",
              "      <td>237000000</td>\n",
              "      <td>[{\"id\": 28, \"name\": \"Action\"}, {\"id\": 12, \"nam...</td>\n",
              "      <td>http://www.avatarmovie.com/</td>\n",
              "      <td>19995</td>\n",
              "      <td>[{\"id\": 1463, \"name\": \"culture clash\"}, {\"id\":...</td>\n",
              "      <td>en</td>\n",
              "      <td>Avatar</td>\n",
              "      <td>In the 22nd century, a paraplegic Marine is di...</td>\n",
              "      <td>150.437577</td>\n",
              "      <td>[{\"name\": \"Ingenious Film Partners\", \"id\": 289...</td>\n",
              "      <td>[{\"iso_3166_1\": \"US\", \"name\": \"United States o...</td>\n",
              "      <td>2009-12-10</td>\n",
              "      <td>2787965087</td>\n",
              "      <td>162.0</td>\n",
              "      <td>[{\"iso_639_1\": \"en\", \"name\": \"English\"}, {\"iso...</td>\n",
              "      <td>Released</td>\n",
              "      <td>Enter the World of Pandora.</td>\n",
              "      <td>Avatar</td>\n",
              "      <td>7.2</td>\n",
              "      <td>11800</td>\n",
              "    </tr>\n",
              "    <tr>\n",
              "      <th>1</th>\n",
              "      <td>300000000</td>\n",
              "      <td>[{\"id\": 12, \"name\": \"Adventure\"}, {\"id\": 14, \"...</td>\n",
              "      <td>http://disney.go.com/disneypictures/pirates/</td>\n",
              "      <td>285</td>\n",
              "      <td>[{\"id\": 270, \"name\": \"ocean\"}, {\"id\": 726, \"na...</td>\n",
              "      <td>en</td>\n",
              "      <td>Pirates of the Caribbean: At World's End</td>\n",
              "      <td>Captain Barbossa, long believed to be dead, ha...</td>\n",
              "      <td>139.082615</td>\n",
              "      <td>[{\"name\": \"Walt Disney Pictures\", \"id\": 2}, {\"...</td>\n",
              "      <td>[{\"iso_3166_1\": \"US\", \"name\": \"United States o...</td>\n",
              "      <td>2007-05-19</td>\n",
              "      <td>961000000</td>\n",
              "      <td>169.0</td>\n",
              "      <td>[{\"iso_639_1\": \"en\", \"name\": \"English\"}]</td>\n",
              "      <td>Released</td>\n",
              "      <td>At the end of the world, the adventure begins.</td>\n",
              "      <td>Pirates of the Caribbean: At World's End</td>\n",
              "      <td>6.9</td>\n",
              "      <td>4500</td>\n",
              "    </tr>\n",
              "    <tr>\n",
              "      <th>2</th>\n",
              "      <td>245000000</td>\n",
              "      <td>[{\"id\": 28, \"name\": \"Action\"}, {\"id\": 12, \"nam...</td>\n",
              "      <td>http://www.sonypictures.com/movies/spectre/</td>\n",
              "      <td>206647</td>\n",
              "      <td>[{\"id\": 470, \"name\": \"spy\"}, {\"id\": 818, \"name...</td>\n",
              "      <td>en</td>\n",
              "      <td>Spectre</td>\n",
              "      <td>A cryptic message from Bond’s past sends him o...</td>\n",
              "      <td>107.376788</td>\n",
              "      <td>[{\"name\": \"Columbia Pictures\", \"id\": 5}, {\"nam...</td>\n",
              "      <td>[{\"iso_3166_1\": \"GB\", \"name\": \"United Kingdom\"...</td>\n",
              "      <td>2015-10-26</td>\n",
              "      <td>880674609</td>\n",
              "      <td>148.0</td>\n",
              "      <td>[{\"iso_639_1\": \"fr\", \"name\": \"Fran\\u00e7ais\"},...</td>\n",
              "      <td>Released</td>\n",
              "      <td>A Plan No One Escapes</td>\n",
              "      <td>Spectre</td>\n",
              "      <td>6.3</td>\n",
              "      <td>4466</td>\n",
              "    </tr>\n",
              "    <tr>\n",
              "      <th>3</th>\n",
              "      <td>250000000</td>\n",
              "      <td>[{\"id\": 28, \"name\": \"Action\"}, {\"id\": 80, \"nam...</td>\n",
              "      <td>http://www.thedarkknightrises.com/</td>\n",
              "      <td>49026</td>\n",
              "      <td>[{\"id\": 849, \"name\": \"dc comics\"}, {\"id\": 853,...</td>\n",
              "      <td>en</td>\n",
              "      <td>The Dark Knight Rises</td>\n",
              "      <td>Following the death of District Attorney Harve...</td>\n",
              "      <td>112.312950</td>\n",
              "      <td>[{\"name\": \"Legendary Pictures\", \"id\": 923}, {\"...</td>\n",
              "      <td>[{\"iso_3166_1\": \"US\", \"name\": \"United States o...</td>\n",
              "      <td>2012-07-16</td>\n",
              "      <td>1084939099</td>\n",
              "      <td>165.0</td>\n",
              "      <td>[{\"iso_639_1\": \"en\", \"name\": \"English\"}]</td>\n",
              "      <td>Released</td>\n",
              "      <td>The Legend Ends</td>\n",
              "      <td>The Dark Knight Rises</td>\n",
              "      <td>7.6</td>\n",
              "      <td>9106</td>\n",
              "    </tr>\n",
              "    <tr>\n",
              "      <th>4</th>\n",
              "      <td>260000000</td>\n",
              "      <td>[{\"id\": 28, \"name\": \"Action\"}, {\"id\": 12, \"nam...</td>\n",
              "      <td>http://movies.disney.com/john-carter</td>\n",
              "      <td>49529</td>\n",
              "      <td>[{\"id\": 818, \"name\": \"based on novel\"}, {\"id\":...</td>\n",
              "      <td>en</td>\n",
              "      <td>John Carter</td>\n",
              "      <td>John Carter is a war-weary, former military ca...</td>\n",
              "      <td>43.926995</td>\n",
              "      <td>[{\"name\": \"Walt Disney Pictures\", \"id\": 2}]</td>\n",
              "      <td>[{\"iso_3166_1\": \"US\", \"name\": \"United States o...</td>\n",
              "      <td>2012-03-07</td>\n",
              "      <td>284139100</td>\n",
              "      <td>132.0</td>\n",
              "      <td>[{\"iso_639_1\": \"en\", \"name\": \"English\"}]</td>\n",
              "      <td>Released</td>\n",
              "      <td>Lost in our world, found in another.</td>\n",
              "      <td>John Carter</td>\n",
              "      <td>6.1</td>\n",
              "      <td>2124</td>\n",
              "    </tr>\n",
              "  </tbody>\n",
              "</table>\n",
              "</div>\n",
              "      <button class=\"colab-df-convert\" onclick=\"convertToInteractive('df-9c1e8851-25b6-4cdc-bd7f-23ccb7adf9c7')\"\n",
              "              title=\"Convert this dataframe to an interactive table.\"\n",
              "              style=\"display:none;\">\n",
              "        \n",
              "  <svg xmlns=\"http://www.w3.org/2000/svg\" height=\"24px\"viewBox=\"0 0 24 24\"\n",
              "       width=\"24px\">\n",
              "    <path d=\"M0 0h24v24H0V0z\" fill=\"none\"/>\n",
              "    <path d=\"M18.56 5.44l.94 2.06.94-2.06 2.06-.94-2.06-.94-.94-2.06-.94 2.06-2.06.94zm-11 1L8.5 8.5l.94-2.06 2.06-.94-2.06-.94L8.5 2.5l-.94 2.06-2.06.94zm10 10l.94 2.06.94-2.06 2.06-.94-2.06-.94-.94-2.06-.94 2.06-2.06.94z\"/><path d=\"M17.41 7.96l-1.37-1.37c-.4-.4-.92-.59-1.43-.59-.52 0-1.04.2-1.43.59L10.3 9.45l-7.72 7.72c-.78.78-.78 2.05 0 2.83L4 21.41c.39.39.9.59 1.41.59.51 0 1.02-.2 1.41-.59l7.78-7.78 2.81-2.81c.8-.78.8-2.07 0-2.86zM5.41 20L4 18.59l7.72-7.72 1.47 1.35L5.41 20z\"/>\n",
              "  </svg>\n",
              "      </button>\n",
              "      \n",
              "  <style>\n",
              "    .colab-df-container {\n",
              "      display:flex;\n",
              "      flex-wrap:wrap;\n",
              "      gap: 12px;\n",
              "    }\n",
              "\n",
              "    .colab-df-convert {\n",
              "      background-color: #E8F0FE;\n",
              "      border: none;\n",
              "      border-radius: 50%;\n",
              "      cursor: pointer;\n",
              "      display: none;\n",
              "      fill: #1967D2;\n",
              "      height: 32px;\n",
              "      padding: 0 0 0 0;\n",
              "      width: 32px;\n",
              "    }\n",
              "\n",
              "    .colab-df-convert:hover {\n",
              "      background-color: #E2EBFA;\n",
              "      box-shadow: 0px 1px 2px rgba(60, 64, 67, 0.3), 0px 1px 3px 1px rgba(60, 64, 67, 0.15);\n",
              "      fill: #174EA6;\n",
              "    }\n",
              "\n",
              "    [theme=dark] .colab-df-convert {\n",
              "      background-color: #3B4455;\n",
              "      fill: #D2E3FC;\n",
              "    }\n",
              "\n",
              "    [theme=dark] .colab-df-convert:hover {\n",
              "      background-color: #434B5C;\n",
              "      box-shadow: 0px 1px 3px 1px rgba(0, 0, 0, 0.15);\n",
              "      filter: drop-shadow(0px 1px 2px rgba(0, 0, 0, 0.3));\n",
              "      fill: #FFFFFF;\n",
              "    }\n",
              "  </style>\n",
              "\n",
              "      <script>\n",
              "        const buttonEl =\n",
              "          document.querySelector('#df-9c1e8851-25b6-4cdc-bd7f-23ccb7adf9c7 button.colab-df-convert');\n",
              "        buttonEl.style.display =\n",
              "          google.colab.kernel.accessAllowed ? 'block' : 'none';\n",
              "\n",
              "        async function convertToInteractive(key) {\n",
              "          const element = document.querySelector('#df-9c1e8851-25b6-4cdc-bd7f-23ccb7adf9c7');\n",
              "          const dataTable =\n",
              "            await google.colab.kernel.invokeFunction('convertToInteractive',\n",
              "                                                     [key], {});\n",
              "          if (!dataTable) return;\n",
              "\n",
              "          const docLinkHtml = 'Like what you see? Visit the ' +\n",
              "            '<a target=\"_blank\" href=https://colab.research.google.com/notebooks/data_table.ipynb>data table notebook</a>'\n",
              "            + ' to learn more about interactive tables.';\n",
              "          element.innerHTML = '';\n",
              "          dataTable['output_type'] = 'display_data';\n",
              "          await google.colab.output.renderOutput(dataTable, element);\n",
              "          const docLink = document.createElement('div');\n",
              "          docLink.innerHTML = docLinkHtml;\n",
              "          element.appendChild(docLink);\n",
              "        }\n",
              "      </script>\n",
              "    </div>\n",
              "  </div>\n",
              "  "
            ],
            "text/plain": [
              "      budget                                             genres  \\\n",
              "0  237000000  [{\"id\": 28, \"name\": \"Action\"}, {\"id\": 12, \"nam...   \n",
              "1  300000000  [{\"id\": 12, \"name\": \"Adventure\"}, {\"id\": 14, \"...   \n",
              "2  245000000  [{\"id\": 28, \"name\": \"Action\"}, {\"id\": 12, \"nam...   \n",
              "3  250000000  [{\"id\": 28, \"name\": \"Action\"}, {\"id\": 80, \"nam...   \n",
              "4  260000000  [{\"id\": 28, \"name\": \"Action\"}, {\"id\": 12, \"nam...   \n",
              "\n",
              "                                       homepage      id  \\\n",
              "0                   http://www.avatarmovie.com/   19995   \n",
              "1  http://disney.go.com/disneypictures/pirates/     285   \n",
              "2   http://www.sonypictures.com/movies/spectre/  206647   \n",
              "3            http://www.thedarkknightrises.com/   49026   \n",
              "4          http://movies.disney.com/john-carter   49529   \n",
              "\n",
              "                                            keywords original_language  \\\n",
              "0  [{\"id\": 1463, \"name\": \"culture clash\"}, {\"id\":...                en   \n",
              "1  [{\"id\": 270, \"name\": \"ocean\"}, {\"id\": 726, \"na...                en   \n",
              "2  [{\"id\": 470, \"name\": \"spy\"}, {\"id\": 818, \"name...                en   \n",
              "3  [{\"id\": 849, \"name\": \"dc comics\"}, {\"id\": 853,...                en   \n",
              "4  [{\"id\": 818, \"name\": \"based on novel\"}, {\"id\":...                en   \n",
              "\n",
              "                             original_title  \\\n",
              "0                                    Avatar   \n",
              "1  Pirates of the Caribbean: At World's End   \n",
              "2                                   Spectre   \n",
              "3                     The Dark Knight Rises   \n",
              "4                               John Carter   \n",
              "\n",
              "                                            overview  popularity  \\\n",
              "0  In the 22nd century, a paraplegic Marine is di...  150.437577   \n",
              "1  Captain Barbossa, long believed to be dead, ha...  139.082615   \n",
              "2  A cryptic message from Bond’s past sends him o...  107.376788   \n",
              "3  Following the death of District Attorney Harve...  112.312950   \n",
              "4  John Carter is a war-weary, former military ca...   43.926995   \n",
              "\n",
              "                                production_companies  \\\n",
              "0  [{\"name\": \"Ingenious Film Partners\", \"id\": 289...   \n",
              "1  [{\"name\": \"Walt Disney Pictures\", \"id\": 2}, {\"...   \n",
              "2  [{\"name\": \"Columbia Pictures\", \"id\": 5}, {\"nam...   \n",
              "3  [{\"name\": \"Legendary Pictures\", \"id\": 923}, {\"...   \n",
              "4        [{\"name\": \"Walt Disney Pictures\", \"id\": 2}]   \n",
              "\n",
              "                                production_countries release_date     revenue  \\\n",
              "0  [{\"iso_3166_1\": \"US\", \"name\": \"United States o...   2009-12-10  2787965087   \n",
              "1  [{\"iso_3166_1\": \"US\", \"name\": \"United States o...   2007-05-19   961000000   \n",
              "2  [{\"iso_3166_1\": \"GB\", \"name\": \"United Kingdom\"...   2015-10-26   880674609   \n",
              "3  [{\"iso_3166_1\": \"US\", \"name\": \"United States o...   2012-07-16  1084939099   \n",
              "4  [{\"iso_3166_1\": \"US\", \"name\": \"United States o...   2012-03-07   284139100   \n",
              "\n",
              "   runtime                                   spoken_languages    status  \\\n",
              "0    162.0  [{\"iso_639_1\": \"en\", \"name\": \"English\"}, {\"iso...  Released   \n",
              "1    169.0           [{\"iso_639_1\": \"en\", \"name\": \"English\"}]  Released   \n",
              "2    148.0  [{\"iso_639_1\": \"fr\", \"name\": \"Fran\\u00e7ais\"},...  Released   \n",
              "3    165.0           [{\"iso_639_1\": \"en\", \"name\": \"English\"}]  Released   \n",
              "4    132.0           [{\"iso_639_1\": \"en\", \"name\": \"English\"}]  Released   \n",
              "\n",
              "                                          tagline  \\\n",
              "0                     Enter the World of Pandora.   \n",
              "1  At the end of the world, the adventure begins.   \n",
              "2                           A Plan No One Escapes   \n",
              "3                                 The Legend Ends   \n",
              "4            Lost in our world, found in another.   \n",
              "\n",
              "                                      title  vote_average  vote_count  \n",
              "0                                    Avatar           7.2       11800  \n",
              "1  Pirates of the Caribbean: At World's End           6.9        4500  \n",
              "2                                   Spectre           6.3        4466  \n",
              "3                     The Dark Knight Rises           7.6        9106  \n",
              "4                               John Carter           6.1        2124  "
            ]
          },
          "execution_count": 3,
          "metadata": {},
          "output_type": "execute_result"
        }
      ],
      "source": [
        "movies.head()"
      ]
    },
    {
      "cell_type": "code",
      "execution_count": 4,
      "metadata": {
        "colab": {
          "base_uri": "https://localhost:8080/"
        },
        "id": "-weoSgh_5KUr",
        "outputId": "6c038e13-6026-4034-9a87-3e9dc04bb933"
      },
      "outputs": [
        {
          "data": {
            "text/plain": [
              "(4803, 20)"
            ]
          },
          "execution_count": 4,
          "metadata": {},
          "output_type": "execute_result"
        }
      ],
      "source": [
        "movies.shape"
      ]
    },
    {
      "cell_type": "code",
      "execution_count": 5,
      "metadata": {
        "colab": {
          "base_uri": "https://localhost:8080/",
          "height": 206
        },
        "id": "FtUoZNOa5NrD",
        "outputId": "3f232750-caed-4fd8-f1a2-7757ef81fab1"
      },
      "outputs": [
        {
          "data": {
            "text/html": [
              "\n",
              "  <div id=\"df-601ae0fc-e634-44df-969b-ec66dc2a1bbf\">\n",
              "    <div class=\"colab-df-container\">\n",
              "      <div>\n",
              "<style scoped>\n",
              "    .dataframe tbody tr th:only-of-type {\n",
              "        vertical-align: middle;\n",
              "    }\n",
              "\n",
              "    .dataframe tbody tr th {\n",
              "        vertical-align: top;\n",
              "    }\n",
              "\n",
              "    .dataframe thead th {\n",
              "        text-align: right;\n",
              "    }\n",
              "</style>\n",
              "<table border=\"1\" class=\"dataframe\">\n",
              "  <thead>\n",
              "    <tr style=\"text-align: right;\">\n",
              "      <th></th>\n",
              "      <th>movie_id</th>\n",
              "      <th>title</th>\n",
              "      <th>cast</th>\n",
              "      <th>crew</th>\n",
              "    </tr>\n",
              "  </thead>\n",
              "  <tbody>\n",
              "    <tr>\n",
              "      <th>0</th>\n",
              "      <td>19995</td>\n",
              "      <td>Avatar</td>\n",
              "      <td>[{\"cast_id\": 242, \"character\": \"Jake Sully\", \"...</td>\n",
              "      <td>[{\"credit_id\": \"52fe48009251416c750aca23\", \"de...</td>\n",
              "    </tr>\n",
              "    <tr>\n",
              "      <th>1</th>\n",
              "      <td>285</td>\n",
              "      <td>Pirates of the Caribbean: At World's End</td>\n",
              "      <td>[{\"cast_id\": 4, \"character\": \"Captain Jack Spa...</td>\n",
              "      <td>[{\"credit_id\": \"52fe4232c3a36847f800b579\", \"de...</td>\n",
              "    </tr>\n",
              "    <tr>\n",
              "      <th>2</th>\n",
              "      <td>206647</td>\n",
              "      <td>Spectre</td>\n",
              "      <td>[{\"cast_id\": 1, \"character\": \"James Bond\", \"cr...</td>\n",
              "      <td>[{\"credit_id\": \"54805967c3a36829b5002c41\", \"de...</td>\n",
              "    </tr>\n",
              "    <tr>\n",
              "      <th>3</th>\n",
              "      <td>49026</td>\n",
              "      <td>The Dark Knight Rises</td>\n",
              "      <td>[{\"cast_id\": 2, \"character\": \"Bruce Wayne / Ba...</td>\n",
              "      <td>[{\"credit_id\": \"52fe4781c3a36847f81398c3\", \"de...</td>\n",
              "    </tr>\n",
              "    <tr>\n",
              "      <th>4</th>\n",
              "      <td>49529</td>\n",
              "      <td>John Carter</td>\n",
              "      <td>[{\"cast_id\": 5, \"character\": \"John Carter\", \"c...</td>\n",
              "      <td>[{\"credit_id\": \"52fe479ac3a36847f813eaa3\", \"de...</td>\n",
              "    </tr>\n",
              "  </tbody>\n",
              "</table>\n",
              "</div>\n",
              "      <button class=\"colab-df-convert\" onclick=\"convertToInteractive('df-601ae0fc-e634-44df-969b-ec66dc2a1bbf')\"\n",
              "              title=\"Convert this dataframe to an interactive table.\"\n",
              "              style=\"display:none;\">\n",
              "        \n",
              "  <svg xmlns=\"http://www.w3.org/2000/svg\" height=\"24px\"viewBox=\"0 0 24 24\"\n",
              "       width=\"24px\">\n",
              "    <path d=\"M0 0h24v24H0V0z\" fill=\"none\"/>\n",
              "    <path d=\"M18.56 5.44l.94 2.06.94-2.06 2.06-.94-2.06-.94-.94-2.06-.94 2.06-2.06.94zm-11 1L8.5 8.5l.94-2.06 2.06-.94-2.06-.94L8.5 2.5l-.94 2.06-2.06.94zm10 10l.94 2.06.94-2.06 2.06-.94-2.06-.94-.94-2.06-.94 2.06-2.06.94z\"/><path d=\"M17.41 7.96l-1.37-1.37c-.4-.4-.92-.59-1.43-.59-.52 0-1.04.2-1.43.59L10.3 9.45l-7.72 7.72c-.78.78-.78 2.05 0 2.83L4 21.41c.39.39.9.59 1.41.59.51 0 1.02-.2 1.41-.59l7.78-7.78 2.81-2.81c.8-.78.8-2.07 0-2.86zM5.41 20L4 18.59l7.72-7.72 1.47 1.35L5.41 20z\"/>\n",
              "  </svg>\n",
              "      </button>\n",
              "      \n",
              "  <style>\n",
              "    .colab-df-container {\n",
              "      display:flex;\n",
              "      flex-wrap:wrap;\n",
              "      gap: 12px;\n",
              "    }\n",
              "\n",
              "    .colab-df-convert {\n",
              "      background-color: #E8F0FE;\n",
              "      border: none;\n",
              "      border-radius: 50%;\n",
              "      cursor: pointer;\n",
              "      display: none;\n",
              "      fill: #1967D2;\n",
              "      height: 32px;\n",
              "      padding: 0 0 0 0;\n",
              "      width: 32px;\n",
              "    }\n",
              "\n",
              "    .colab-df-convert:hover {\n",
              "      background-color: #E2EBFA;\n",
              "      box-shadow: 0px 1px 2px rgba(60, 64, 67, 0.3), 0px 1px 3px 1px rgba(60, 64, 67, 0.15);\n",
              "      fill: #174EA6;\n",
              "    }\n",
              "\n",
              "    [theme=dark] .colab-df-convert {\n",
              "      background-color: #3B4455;\n",
              "      fill: #D2E3FC;\n",
              "    }\n",
              "\n",
              "    [theme=dark] .colab-df-convert:hover {\n",
              "      background-color: #434B5C;\n",
              "      box-shadow: 0px 1px 3px 1px rgba(0, 0, 0, 0.15);\n",
              "      filter: drop-shadow(0px 1px 2px rgba(0, 0, 0, 0.3));\n",
              "      fill: #FFFFFF;\n",
              "    }\n",
              "  </style>\n",
              "\n",
              "      <script>\n",
              "        const buttonEl =\n",
              "          document.querySelector('#df-601ae0fc-e634-44df-969b-ec66dc2a1bbf button.colab-df-convert');\n",
              "        buttonEl.style.display =\n",
              "          google.colab.kernel.accessAllowed ? 'block' : 'none';\n",
              "\n",
              "        async function convertToInteractive(key) {\n",
              "          const element = document.querySelector('#df-601ae0fc-e634-44df-969b-ec66dc2a1bbf');\n",
              "          const dataTable =\n",
              "            await google.colab.kernel.invokeFunction('convertToInteractive',\n",
              "                                                     [key], {});\n",
              "          if (!dataTable) return;\n",
              "\n",
              "          const docLinkHtml = 'Like what you see? Visit the ' +\n",
              "            '<a target=\"_blank\" href=https://colab.research.google.com/notebooks/data_table.ipynb>data table notebook</a>'\n",
              "            + ' to learn more about interactive tables.';\n",
              "          element.innerHTML = '';\n",
              "          dataTable['output_type'] = 'display_data';\n",
              "          await google.colab.output.renderOutput(dataTable, element);\n",
              "          const docLink = document.createElement('div');\n",
              "          docLink.innerHTML = docLinkHtml;\n",
              "          element.appendChild(docLink);\n",
              "        }\n",
              "      </script>\n",
              "    </div>\n",
              "  </div>\n",
              "  "
            ],
            "text/plain": [
              "   movie_id                                     title  \\\n",
              "0     19995                                    Avatar   \n",
              "1       285  Pirates of the Caribbean: At World's End   \n",
              "2    206647                                   Spectre   \n",
              "3     49026                     The Dark Knight Rises   \n",
              "4     49529                               John Carter   \n",
              "\n",
              "                                                cast  \\\n",
              "0  [{\"cast_id\": 242, \"character\": \"Jake Sully\", \"...   \n",
              "1  [{\"cast_id\": 4, \"character\": \"Captain Jack Spa...   \n",
              "2  [{\"cast_id\": 1, \"character\": \"James Bond\", \"cr...   \n",
              "3  [{\"cast_id\": 2, \"character\": \"Bruce Wayne / Ba...   \n",
              "4  [{\"cast_id\": 5, \"character\": \"John Carter\", \"c...   \n",
              "\n",
              "                                                crew  \n",
              "0  [{\"credit_id\": \"52fe48009251416c750aca23\", \"de...  \n",
              "1  [{\"credit_id\": \"52fe4232c3a36847f800b579\", \"de...  \n",
              "2  [{\"credit_id\": \"54805967c3a36829b5002c41\", \"de...  \n",
              "3  [{\"credit_id\": \"52fe4781c3a36847f81398c3\", \"de...  \n",
              "4  [{\"credit_id\": \"52fe479ac3a36847f813eaa3\", \"de...  "
            ]
          },
          "execution_count": 5,
          "metadata": {},
          "output_type": "execute_result"
        }
      ],
      "source": [
        "credits.head()"
      ]
    },
    {
      "cell_type": "code",
      "execution_count": 6,
      "metadata": {
        "colab": {
          "base_uri": "https://localhost:8080/"
        },
        "id": "eMgBnyoG5PbP",
        "outputId": "5019dc00-fbcc-4e33-ac3d-a9b7e9d74328"
      },
      "outputs": [
        {
          "data": {
            "text/plain": [
              "(4803, 4)"
            ]
          },
          "execution_count": 6,
          "metadata": {},
          "output_type": "execute_result"
        }
      ],
      "source": [
        "credits.shape"
      ]
    },
    {
      "cell_type": "markdown",
      "metadata": {
        "id": "df9a5jYSGGuo"
      },
      "source": [
        "## Merge of the datasates\n",
        "\n",
        "This project contains 2 datasets with different features for the same 5000 movies, so we should merge them."
      ]
    },
    {
      "cell_type": "code",
      "execution_count": 7,
      "metadata": {
        "id": "mDDqx4MCEbK2"
      },
      "outputs": [],
      "source": [
        "# Merge of both datasets on the 'title' column\n",
        "movies = movies.merge(credits, on='title')"
      ]
    },
    {
      "cell_type": "markdown",
      "metadata": {
        "id": "iRBzXWiAGTzW"
      },
      "source": [
        "## Extracting the important columns \n",
        "\n",
        "We will work only with the following columns:\n",
        "\n",
        "-movie_id\n",
        "\n",
        "-title\n",
        "\n",
        "-overview\n",
        "\n",
        "-genres\n",
        "\n",
        "-keywords\n",
        "\n",
        "-cast\n",
        "\n",
        "-crew"
      ]
    },
    {
      "cell_type": "code",
      "execution_count": 8,
      "metadata": {
        "id": "ftBSnvmkEcvX"
      },
      "outputs": [],
      "source": [
        "movies = movies[['movie_id','title','overview','genres','keywords','cast','crew']]"
      ]
    },
    {
      "cell_type": "markdown",
      "metadata": {
        "id": "hzuzviKdGJ_y"
      },
      "source": [
        "## Null values\n",
        "\n",
        "As there are only 3 missing values in the 'overview' column, we are going to drop them."
      ]
    },
    {
      "cell_type": "code",
      "execution_count": 9,
      "metadata": {
        "colab": {
          "base_uri": "https://localhost:8080/"
        },
        "id": "KzvAlgUdEoDF",
        "outputId": "6b508723-90ee-4ed0-85f2-bc1ccb47ddd8"
      },
      "outputs": [
        {
          "data": {
            "text/plain": [
              "movie_id    0\n",
              "title       0\n",
              "overview    3\n",
              "genres      0\n",
              "keywords    0\n",
              "cast        0\n",
              "crew        0\n",
              "dtype: int64"
            ]
          },
          "execution_count": 9,
          "metadata": {},
          "output_type": "execute_result"
        }
      ],
      "source": [
        "movies.isnull().sum()"
      ]
    },
    {
      "cell_type": "code",
      "execution_count": 10,
      "metadata": {
        "id": "-9QEAcIw6m0O"
      },
      "outputs": [],
      "source": [
        "movies.dropna(inplace = True)"
      ]
    },
    {
      "cell_type": "markdown",
      "metadata": {
        "id": "S2FDkri-GYws"
      },
      "source": [
        "## Data transformation"
      ]
    },
    {
      "cell_type": "markdown",
      "metadata": {
        "id": "S561eFkOEtPG"
      },
      "source": [
        "As you can see there are some columns with json format. With the following code, you can view what genres are included in the first row."
      ]
    },
    {
      "cell_type": "code",
      "execution_count": 11,
      "metadata": {
        "colab": {
          "base_uri": "https://localhost:8080/",
          "height": 35
        },
        "id": "9yuLeqo0Es-j",
        "outputId": "3e0ca48e-a913-4db6-dac3-2955cf795215"
      },
      "outputs": [
        {
          "data": {
            "application/vnd.google.colaboratory.intrinsic+json": {
              "type": "string"
            },
            "text/plain": [
              "'[{\"id\": 28, \"name\": \"Action\"}, {\"id\": 12, \"name\": \"Adventure\"}, {\"id\": 14, \"name\": \"Fantasy\"}, {\"id\": 878, \"name\": \"Science Fiction\"}]'"
            ]
          },
          "execution_count": 11,
          "metadata": {},
          "output_type": "execute_result"
        }
      ],
      "source": [
        "movies.iloc[0].genres"
      ]
    },
    {
      "cell_type": "markdown",
      "metadata": {
        "id": "-6vBSza666Ji"
      },
      "source": [
        "### Obtaining the genres information"
      ]
    },
    {
      "cell_type": "markdown",
      "metadata": {
        "id": "iKAUjZnHExES"
      },
      "source": [
        "We will start converting these columns using a function to obtain only the genres, without a json format. We are only interested in the values of the 'name' keys."
      ]
    },
    {
      "cell_type": "code",
      "execution_count": 12,
      "metadata": {
        "id": "f4d6gWAVEx1J"
      },
      "outputs": [],
      "source": [
        "def convert(obj):\n",
        "    L = []\n",
        "    for i in ast.literal_eval(obj):\n",
        "        L.append(i['name'])\n",
        "    return L"
      ]
    },
    {
      "cell_type": "code",
      "execution_count": 13,
      "metadata": {
        "id": "NwVsjluw7Fn1"
      },
      "outputs": [],
      "source": [
        "movies.dropna(inplace = True)"
      ]
    },
    {
      "cell_type": "code",
      "execution_count": 14,
      "metadata": {
        "id": "1P0jnAyUE40C"
      },
      "outputs": [],
      "source": [
        "movies['genres'] = movies['genres'].apply(convert)"
      ]
    },
    {
      "cell_type": "code",
      "execution_count": 15,
      "metadata": {
        "colab": {
          "base_uri": "https://localhost:8080/",
          "height": 337
        },
        "id": "Gv3EFSLH7KPy",
        "outputId": "38316f6f-2653-406d-d024-1a8d1ba3407c"
      },
      "outputs": [
        {
          "data": {
            "text/html": [
              "\n",
              "  <div id=\"df-bde6c1a2-eff5-4423-862c-08317bac3e17\">\n",
              "    <div class=\"colab-df-container\">\n",
              "      <div>\n",
              "<style scoped>\n",
              "    .dataframe tbody tr th:only-of-type {\n",
              "        vertical-align: middle;\n",
              "    }\n",
              "\n",
              "    .dataframe tbody tr th {\n",
              "        vertical-align: top;\n",
              "    }\n",
              "\n",
              "    .dataframe thead th {\n",
              "        text-align: right;\n",
              "    }\n",
              "</style>\n",
              "<table border=\"1\" class=\"dataframe\">\n",
              "  <thead>\n",
              "    <tr style=\"text-align: right;\">\n",
              "      <th></th>\n",
              "      <th>movie_id</th>\n",
              "      <th>title</th>\n",
              "      <th>overview</th>\n",
              "      <th>genres</th>\n",
              "      <th>keywords</th>\n",
              "      <th>cast</th>\n",
              "      <th>crew</th>\n",
              "    </tr>\n",
              "  </thead>\n",
              "  <tbody>\n",
              "    <tr>\n",
              "      <th>0</th>\n",
              "      <td>19995</td>\n",
              "      <td>Avatar</td>\n",
              "      <td>In the 22nd century, a paraplegic Marine is di...</td>\n",
              "      <td>[Action, Adventure, Fantasy, Science Fiction]</td>\n",
              "      <td>[{\"id\": 1463, \"name\": \"culture clash\"}, {\"id\":...</td>\n",
              "      <td>[{\"cast_id\": 242, \"character\": \"Jake Sully\", \"...</td>\n",
              "      <td>[{\"credit_id\": \"52fe48009251416c750aca23\", \"de...</td>\n",
              "    </tr>\n",
              "    <tr>\n",
              "      <th>1</th>\n",
              "      <td>285</td>\n",
              "      <td>Pirates of the Caribbean: At World's End</td>\n",
              "      <td>Captain Barbossa, long believed to be dead, ha...</td>\n",
              "      <td>[Adventure, Fantasy, Action]</td>\n",
              "      <td>[{\"id\": 270, \"name\": \"ocean\"}, {\"id\": 726, \"na...</td>\n",
              "      <td>[{\"cast_id\": 4, \"character\": \"Captain Jack Spa...</td>\n",
              "      <td>[{\"credit_id\": \"52fe4232c3a36847f800b579\", \"de...</td>\n",
              "    </tr>\n",
              "    <tr>\n",
              "      <th>2</th>\n",
              "      <td>206647</td>\n",
              "      <td>Spectre</td>\n",
              "      <td>A cryptic message from Bond’s past sends him o...</td>\n",
              "      <td>[Action, Adventure, Crime]</td>\n",
              "      <td>[{\"id\": 470, \"name\": \"spy\"}, {\"id\": 818, \"name...</td>\n",
              "      <td>[{\"cast_id\": 1, \"character\": \"James Bond\", \"cr...</td>\n",
              "      <td>[{\"credit_id\": \"54805967c3a36829b5002c41\", \"de...</td>\n",
              "    </tr>\n",
              "    <tr>\n",
              "      <th>3</th>\n",
              "      <td>49026</td>\n",
              "      <td>The Dark Knight Rises</td>\n",
              "      <td>Following the death of District Attorney Harve...</td>\n",
              "      <td>[Action, Crime, Drama, Thriller]</td>\n",
              "      <td>[{\"id\": 849, \"name\": \"dc comics\"}, {\"id\": 853,...</td>\n",
              "      <td>[{\"cast_id\": 2, \"character\": \"Bruce Wayne / Ba...</td>\n",
              "      <td>[{\"credit_id\": \"52fe4781c3a36847f81398c3\", \"de...</td>\n",
              "    </tr>\n",
              "    <tr>\n",
              "      <th>4</th>\n",
              "      <td>49529</td>\n",
              "      <td>John Carter</td>\n",
              "      <td>John Carter is a war-weary, former military ca...</td>\n",
              "      <td>[Action, Adventure, Science Fiction]</td>\n",
              "      <td>[{\"id\": 818, \"name\": \"based on novel\"}, {\"id\":...</td>\n",
              "      <td>[{\"cast_id\": 5, \"character\": \"John Carter\", \"c...</td>\n",
              "      <td>[{\"credit_id\": \"52fe479ac3a36847f813eaa3\", \"de...</td>\n",
              "    </tr>\n",
              "  </tbody>\n",
              "</table>\n",
              "</div>\n",
              "      <button class=\"colab-df-convert\" onclick=\"convertToInteractive('df-bde6c1a2-eff5-4423-862c-08317bac3e17')\"\n",
              "              title=\"Convert this dataframe to an interactive table.\"\n",
              "              style=\"display:none;\">\n",
              "        \n",
              "  <svg xmlns=\"http://www.w3.org/2000/svg\" height=\"24px\"viewBox=\"0 0 24 24\"\n",
              "       width=\"24px\">\n",
              "    <path d=\"M0 0h24v24H0V0z\" fill=\"none\"/>\n",
              "    <path d=\"M18.56 5.44l.94 2.06.94-2.06 2.06-.94-2.06-.94-.94-2.06-.94 2.06-2.06.94zm-11 1L8.5 8.5l.94-2.06 2.06-.94-2.06-.94L8.5 2.5l-.94 2.06-2.06.94zm10 10l.94 2.06.94-2.06 2.06-.94-2.06-.94-.94-2.06-.94 2.06-2.06.94z\"/><path d=\"M17.41 7.96l-1.37-1.37c-.4-.4-.92-.59-1.43-.59-.52 0-1.04.2-1.43.59L10.3 9.45l-7.72 7.72c-.78.78-.78 2.05 0 2.83L4 21.41c.39.39.9.59 1.41.59.51 0 1.02-.2 1.41-.59l7.78-7.78 2.81-2.81c.8-.78.8-2.07 0-2.86zM5.41 20L4 18.59l7.72-7.72 1.47 1.35L5.41 20z\"/>\n",
              "  </svg>\n",
              "      </button>\n",
              "      \n",
              "  <style>\n",
              "    .colab-df-container {\n",
              "      display:flex;\n",
              "      flex-wrap:wrap;\n",
              "      gap: 12px;\n",
              "    }\n",
              "\n",
              "    .colab-df-convert {\n",
              "      background-color: #E8F0FE;\n",
              "      border: none;\n",
              "      border-radius: 50%;\n",
              "      cursor: pointer;\n",
              "      display: none;\n",
              "      fill: #1967D2;\n",
              "      height: 32px;\n",
              "      padding: 0 0 0 0;\n",
              "      width: 32px;\n",
              "    }\n",
              "\n",
              "    .colab-df-convert:hover {\n",
              "      background-color: #E2EBFA;\n",
              "      box-shadow: 0px 1px 2px rgba(60, 64, 67, 0.3), 0px 1px 3px 1px rgba(60, 64, 67, 0.15);\n",
              "      fill: #174EA6;\n",
              "    }\n",
              "\n",
              "    [theme=dark] .colab-df-convert {\n",
              "      background-color: #3B4455;\n",
              "      fill: #D2E3FC;\n",
              "    }\n",
              "\n",
              "    [theme=dark] .colab-df-convert:hover {\n",
              "      background-color: #434B5C;\n",
              "      box-shadow: 0px 1px 3px 1px rgba(0, 0, 0, 0.15);\n",
              "      filter: drop-shadow(0px 1px 2px rgba(0, 0, 0, 0.3));\n",
              "      fill: #FFFFFF;\n",
              "    }\n",
              "  </style>\n",
              "\n",
              "      <script>\n",
              "        const buttonEl =\n",
              "          document.querySelector('#df-bde6c1a2-eff5-4423-862c-08317bac3e17 button.colab-df-convert');\n",
              "        buttonEl.style.display =\n",
              "          google.colab.kernel.accessAllowed ? 'block' : 'none';\n",
              "\n",
              "        async function convertToInteractive(key) {\n",
              "          const element = document.querySelector('#df-bde6c1a2-eff5-4423-862c-08317bac3e17');\n",
              "          const dataTable =\n",
              "            await google.colab.kernel.invokeFunction('convertToInteractive',\n",
              "                                                     [key], {});\n",
              "          if (!dataTable) return;\n",
              "\n",
              "          const docLinkHtml = 'Like what you see? Visit the ' +\n",
              "            '<a target=\"_blank\" href=https://colab.research.google.com/notebooks/data_table.ipynb>data table notebook</a>'\n",
              "            + ' to learn more about interactive tables.';\n",
              "          element.innerHTML = '';\n",
              "          dataTable['output_type'] = 'display_data';\n",
              "          await google.colab.output.renderOutput(dataTable, element);\n",
              "          const docLink = document.createElement('div');\n",
              "          docLink.innerHTML = docLinkHtml;\n",
              "          element.appendChild(docLink);\n",
              "        }\n",
              "      </script>\n",
              "    </div>\n",
              "  </div>\n",
              "  "
            ],
            "text/plain": [
              "   movie_id                                     title  \\\n",
              "0     19995                                    Avatar   \n",
              "1       285  Pirates of the Caribbean: At World's End   \n",
              "2    206647                                   Spectre   \n",
              "3     49026                     The Dark Knight Rises   \n",
              "4     49529                               John Carter   \n",
              "\n",
              "                                            overview  \\\n",
              "0  In the 22nd century, a paraplegic Marine is di...   \n",
              "1  Captain Barbossa, long believed to be dead, ha...   \n",
              "2  A cryptic message from Bond’s past sends him o...   \n",
              "3  Following the death of District Attorney Harve...   \n",
              "4  John Carter is a war-weary, former military ca...   \n",
              "\n",
              "                                          genres  \\\n",
              "0  [Action, Adventure, Fantasy, Science Fiction]   \n",
              "1                   [Adventure, Fantasy, Action]   \n",
              "2                     [Action, Adventure, Crime]   \n",
              "3               [Action, Crime, Drama, Thriller]   \n",
              "4           [Action, Adventure, Science Fiction]   \n",
              "\n",
              "                                            keywords  \\\n",
              "0  [{\"id\": 1463, \"name\": \"culture clash\"}, {\"id\":...   \n",
              "1  [{\"id\": 270, \"name\": \"ocean\"}, {\"id\": 726, \"na...   \n",
              "2  [{\"id\": 470, \"name\": \"spy\"}, {\"id\": 818, \"name...   \n",
              "3  [{\"id\": 849, \"name\": \"dc comics\"}, {\"id\": 853,...   \n",
              "4  [{\"id\": 818, \"name\": \"based on novel\"}, {\"id\":...   \n",
              "\n",
              "                                                cast  \\\n",
              "0  [{\"cast_id\": 242, \"character\": \"Jake Sully\", \"...   \n",
              "1  [{\"cast_id\": 4, \"character\": \"Captain Jack Spa...   \n",
              "2  [{\"cast_id\": 1, \"character\": \"James Bond\", \"cr...   \n",
              "3  [{\"cast_id\": 2, \"character\": \"Bruce Wayne / Ba...   \n",
              "4  [{\"cast_id\": 5, \"character\": \"John Carter\", \"c...   \n",
              "\n",
              "                                                crew  \n",
              "0  [{\"credit_id\": \"52fe48009251416c750aca23\", \"de...  \n",
              "1  [{\"credit_id\": \"52fe4232c3a36847f800b579\", \"de...  \n",
              "2  [{\"credit_id\": \"54805967c3a36829b5002c41\", \"de...  \n",
              "3  [{\"credit_id\": \"52fe4781c3a36847f81398c3\", \"de...  \n",
              "4  [{\"credit_id\": \"52fe479ac3a36847f813eaa3\", \"de...  "
            ]
          },
          "execution_count": 15,
          "metadata": {},
          "output_type": "execute_result"
        }
      ],
      "source": [
        "movies.head()"
      ]
    },
    {
      "cell_type": "code",
      "execution_count": 16,
      "metadata": {
        "id": "H9QVE8wnE8WV"
      },
      "outputs": [],
      "source": [
        "# Repeat the process for the 'keywords' column.\n",
        "movies['keywords'] = movies['keywords'].apply(convert)"
      ]
    },
    {
      "cell_type": "markdown",
      "metadata": {
        "id": "kfCGGmAi7L1z"
      },
      "source": [
        "### Obtaining the cast information"
      ]
    },
    {
      "cell_type": "code",
      "execution_count": 17,
      "metadata": {
        "id": "Bm18NLddE_2e"
      },
      "outputs": [],
      "source": [
        "# For the 'cast' column we will create a new but similar function. This time we will limit the number of items to three.\n",
        "def convert3(obj):\n",
        "    L = []\n",
        "    count = 0\n",
        "    for i in ast.literal_eval(obj):\n",
        "        if count < 3:\n",
        "            L.append(i['name'])\n",
        "        count +=1  \n",
        "    return L\n",
        "\n",
        "movies['cast'] = movies['cast'].apply(convert3)"
      ]
    },
    {
      "cell_type": "code",
      "execution_count": 18,
      "metadata": {
        "colab": {
          "base_uri": "https://localhost:8080/",
          "height": 142
        },
        "id": "7vcu-RGvFHUO",
        "outputId": "77bf62b8-8bed-4d3c-c274-4a4577288e95"
      },
      "outputs": [
        {
          "data": {
            "text/html": [
              "\n",
              "  <div id=\"df-c426a87f-dd11-415a-a05d-ee7e0d3874f1\">\n",
              "    <div class=\"colab-df-container\">\n",
              "      <div>\n",
              "<style scoped>\n",
              "    .dataframe tbody tr th:only-of-type {\n",
              "        vertical-align: middle;\n",
              "    }\n",
              "\n",
              "    .dataframe tbody tr th {\n",
              "        vertical-align: top;\n",
              "    }\n",
              "\n",
              "    .dataframe thead th {\n",
              "        text-align: right;\n",
              "    }\n",
              "</style>\n",
              "<table border=\"1\" class=\"dataframe\">\n",
              "  <thead>\n",
              "    <tr style=\"text-align: right;\">\n",
              "      <th></th>\n",
              "      <th>movie_id</th>\n",
              "      <th>title</th>\n",
              "      <th>overview</th>\n",
              "      <th>genres</th>\n",
              "      <th>keywords</th>\n",
              "      <th>cast</th>\n",
              "      <th>crew</th>\n",
              "    </tr>\n",
              "  </thead>\n",
              "  <tbody>\n",
              "    <tr>\n",
              "      <th>0</th>\n",
              "      <td>19995</td>\n",
              "      <td>Avatar</td>\n",
              "      <td>In the 22nd century, a paraplegic Marine is di...</td>\n",
              "      <td>[Action, Adventure, Fantasy, Science Fiction]</td>\n",
              "      <td>[culture clash, future, space war, space colon...</td>\n",
              "      <td>[Sam Worthington, Zoe Saldana, Sigourney Weaver]</td>\n",
              "      <td>[{\"credit_id\": \"52fe48009251416c750aca23\", \"de...</td>\n",
              "    </tr>\n",
              "  </tbody>\n",
              "</table>\n",
              "</div>\n",
              "      <button class=\"colab-df-convert\" onclick=\"convertToInteractive('df-c426a87f-dd11-415a-a05d-ee7e0d3874f1')\"\n",
              "              title=\"Convert this dataframe to an interactive table.\"\n",
              "              style=\"display:none;\">\n",
              "        \n",
              "  <svg xmlns=\"http://www.w3.org/2000/svg\" height=\"24px\"viewBox=\"0 0 24 24\"\n",
              "       width=\"24px\">\n",
              "    <path d=\"M0 0h24v24H0V0z\" fill=\"none\"/>\n",
              "    <path d=\"M18.56 5.44l.94 2.06.94-2.06 2.06-.94-2.06-.94-.94-2.06-.94 2.06-2.06.94zm-11 1L8.5 8.5l.94-2.06 2.06-.94-2.06-.94L8.5 2.5l-.94 2.06-2.06.94zm10 10l.94 2.06.94-2.06 2.06-.94-2.06-.94-.94-2.06-.94 2.06-2.06.94z\"/><path d=\"M17.41 7.96l-1.37-1.37c-.4-.4-.92-.59-1.43-.59-.52 0-1.04.2-1.43.59L10.3 9.45l-7.72 7.72c-.78.78-.78 2.05 0 2.83L4 21.41c.39.39.9.59 1.41.59.51 0 1.02-.2 1.41-.59l7.78-7.78 2.81-2.81c.8-.78.8-2.07 0-2.86zM5.41 20L4 18.59l7.72-7.72 1.47 1.35L5.41 20z\"/>\n",
              "  </svg>\n",
              "      </button>\n",
              "      \n",
              "  <style>\n",
              "    .colab-df-container {\n",
              "      display:flex;\n",
              "      flex-wrap:wrap;\n",
              "      gap: 12px;\n",
              "    }\n",
              "\n",
              "    .colab-df-convert {\n",
              "      background-color: #E8F0FE;\n",
              "      border: none;\n",
              "      border-radius: 50%;\n",
              "      cursor: pointer;\n",
              "      display: none;\n",
              "      fill: #1967D2;\n",
              "      height: 32px;\n",
              "      padding: 0 0 0 0;\n",
              "      width: 32px;\n",
              "    }\n",
              "\n",
              "    .colab-df-convert:hover {\n",
              "      background-color: #E2EBFA;\n",
              "      box-shadow: 0px 1px 2px rgba(60, 64, 67, 0.3), 0px 1px 3px 1px rgba(60, 64, 67, 0.15);\n",
              "      fill: #174EA6;\n",
              "    }\n",
              "\n",
              "    [theme=dark] .colab-df-convert {\n",
              "      background-color: #3B4455;\n",
              "      fill: #D2E3FC;\n",
              "    }\n",
              "\n",
              "    [theme=dark] .colab-df-convert:hover {\n",
              "      background-color: #434B5C;\n",
              "      box-shadow: 0px 1px 3px 1px rgba(0, 0, 0, 0.15);\n",
              "      filter: drop-shadow(0px 1px 2px rgba(0, 0, 0, 0.3));\n",
              "      fill: #FFFFFF;\n",
              "    }\n",
              "  </style>\n",
              "\n",
              "      <script>\n",
              "        const buttonEl =\n",
              "          document.querySelector('#df-c426a87f-dd11-415a-a05d-ee7e0d3874f1 button.colab-df-convert');\n",
              "        buttonEl.style.display =\n",
              "          google.colab.kernel.accessAllowed ? 'block' : 'none';\n",
              "\n",
              "        async function convertToInteractive(key) {\n",
              "          const element = document.querySelector('#df-c426a87f-dd11-415a-a05d-ee7e0d3874f1');\n",
              "          const dataTable =\n",
              "            await google.colab.kernel.invokeFunction('convertToInteractive',\n",
              "                                                     [key], {});\n",
              "          if (!dataTable) return;\n",
              "\n",
              "          const docLinkHtml = 'Like what you see? Visit the ' +\n",
              "            '<a target=\"_blank\" href=https://colab.research.google.com/notebooks/data_table.ipynb>data table notebook</a>'\n",
              "            + ' to learn more about interactive tables.';\n",
              "          element.innerHTML = '';\n",
              "          dataTable['output_type'] = 'display_data';\n",
              "          await google.colab.output.renderOutput(dataTable, element);\n",
              "          const docLink = document.createElement('div');\n",
              "          docLink.innerHTML = docLinkHtml;\n",
              "          element.appendChild(docLink);\n",
              "        }\n",
              "      </script>\n",
              "    </div>\n",
              "  </div>\n",
              "  "
            ],
            "text/plain": [
              "   movie_id   title                                           overview  \\\n",
              "0     19995  Avatar  In the 22nd century, a paraplegic Marine is di...   \n",
              "\n",
              "                                          genres  \\\n",
              "0  [Action, Adventure, Fantasy, Science Fiction]   \n",
              "\n",
              "                                            keywords  \\\n",
              "0  [culture clash, future, space war, space colon...   \n",
              "\n",
              "                                               cast  \\\n",
              "0  [Sam Worthington, Zoe Saldana, Sigourney Weaver]   \n",
              "\n",
              "                                                crew  \n",
              "0  [{\"credit_id\": \"52fe48009251416c750aca23\", \"de...  "
            ]
          },
          "execution_count": 18,
          "metadata": {},
          "output_type": "execute_result"
        }
      ],
      "source": [
        "#You can see how our dataset is coming along:\n",
        "\n",
        "movies.head(1)"
      ]
    },
    {
      "cell_type": "markdown",
      "metadata": {
        "id": "-aPI16QL8aZW"
      },
      "source": [
        "### Obtaining the director information\n",
        "\n",
        "The only columns left to modify are 'crew' and 'overview'. For the 'crew', we will create a new function that allows to obtain only the values of the 'name' keys for whose 'job' value is 'Director'. To sum up, we are trying to get the name of the director."
      ]
    },
    {
      "cell_type": "code",
      "execution_count": 19,
      "metadata": {
        "id": "k7lg3lX1Fv7z"
      },
      "outputs": [],
      "source": [
        "def fetch_director(obj):\n",
        "    L = []\n",
        "    for i in ast.literal_eval(obj):\n",
        "        if i['job'] == 'Director':\n",
        "            L.append(i['name'])\n",
        "            break\n",
        "    return L"
      ]
    },
    {
      "cell_type": "code",
      "execution_count": 20,
      "metadata": {
        "id": "Sd_xI-gFFx4x"
      },
      "outputs": [],
      "source": [
        "movies['crew'] = movies['crew'].apply(fetch_director)"
      ]
    },
    {
      "cell_type": "markdown",
      "metadata": {
        "id": "cN6RFHew8idG"
      },
      "source": [
        "### Obtaining information from overview"
      ]
    },
    {
      "cell_type": "code",
      "execution_count": 21,
      "metadata": {
        "colab": {
          "base_uri": "https://localhost:8080/",
          "height": 35
        },
        "id": "c0CVtRwXFzpo",
        "outputId": "e72d8311-1cd4-436e-8cda-8c2948250e0d"
      },
      "outputs": [
        {
          "data": {
            "application/vnd.google.colaboratory.intrinsic+json": {
              "type": "string"
            },
            "text/plain": [
              "'In the 22nd century, a paraplegic Marine is dispatched to the moon Pandora on a unique mission, but becomes torn between following orders and protecting an alien civilization.'"
            ]
          },
          "execution_count": 21,
          "metadata": {},
          "output_type": "execute_result"
        }
      ],
      "source": [
        "# Finally, let's look at the first row of the 'overview' column:\n",
        "\n",
        "movies.overview[0]"
      ]
    },
    {
      "cell_type": "markdown",
      "metadata": {
        "id": "gAq4WaLUF4Cg"
      },
      "source": [
        "For the 'overview' column, we will convert it in a list by using 'split()' methode."
      ]
    },
    {
      "cell_type": "code",
      "execution_count": 22,
      "metadata": {
        "id": "P9kTnePRF4tk"
      },
      "outputs": [],
      "source": [
        "movies['overview'] = movies['overview'].apply(lambda x : x.split())"
      ]
    },
    {
      "cell_type": "markdown",
      "metadata": {
        "id": "uw88bCZjF7Mz"
      },
      "source": [
        "### Removing spaces between words\n",
        "\n",
        "For the recommender system to do not get confused, for example between 'Jennifer Aniston' and 'Jennifer Conelly', we will remove spaces between words with a function."
      ]
    },
    {
      "cell_type": "code",
      "execution_count": 23,
      "metadata": {
        "id": "E7vlPC0NGetV"
      },
      "outputs": [],
      "source": [
        "def collapse(L):\n",
        "    L1 = []\n",
        "    for i in L:\n",
        "        L1.append(i.replace(\" \",\"\"))\n",
        "    return L1"
      ]
    },
    {
      "cell_type": "code",
      "execution_count": 24,
      "metadata": {
        "id": "ZsuBonB5GftA"
      },
      "outputs": [],
      "source": [
        "# Now let's apply our function to the 'genres', 'cast', 'crew' and 'keywords' columns.\n",
        "\n",
        "movies['cast'] = movies['cast'].apply(collapse)\n",
        "movies['crew'] = movies['crew'].apply(collapse)\n",
        "movies['genres'] = movies['genres'].apply(collapse)\n",
        "movies['keywords'] = movies['keywords'].apply(collapse)"
      ]
    },
    {
      "cell_type": "markdown",
      "metadata": {
        "id": "aFEF5ylMGjjo"
      },
      "source": [
        "### Reducing the number of columns\n",
        "\n",
        "We will reduce our dataset by combining all our previous converted columns into only one column named 'tags' (which we will create). This column will now have ALL items separated by commas, but we will ignore commas by using lambda x :\" \".join(x)."
      ]
    },
    {
      "cell_type": "code",
      "execution_count": 25,
      "metadata": {
        "id": "I182I9CPGlJQ"
      },
      "outputs": [],
      "source": [
        "movies['tags'] = movies['overview']+movies['genres']+movies['keywords']+movies['cast']+movies['crew']"
      ]
    },
    {
      "cell_type": "code",
      "execution_count": 26,
      "metadata": {
        "colab": {
          "base_uri": "https://localhost:8080/"
        },
        "id": "Gt8IVcwYGpp0",
        "outputId": "e3c22ccb-f53b-46b6-b40e-da12910b9617"
      },
      "outputs": [
        {
          "name": "stderr",
          "output_type": "stream",
          "text": [
            "/usr/local/lib/python3.7/dist-packages/ipykernel_launcher.py:3: SettingWithCopyWarning: \n",
            "A value is trying to be set on a copy of a slice from a DataFrame.\n",
            "Try using .loc[row_indexer,col_indexer] = value instead\n",
            "\n",
            "See the caveats in the documentation: https://pandas.pydata.org/pandas-docs/stable/user_guide/indexing.html#returning-a-view-versus-a-copy\n",
            "  This is separate from the ipykernel package so we can avoid doing imports until\n"
          ]
        }
      ],
      "source": [
        "new_df = movies[['movie_id','title','tags']]\n",
        "\n",
        "new_df['tags'] = new_df['tags'].apply(lambda x :\" \".join(x))"
      ]
    },
    {
      "cell_type": "markdown",
      "metadata": {
        "id": "_QLDjtYfGsfB"
      },
      "source": [
        "Look how it looks now by showing the first tag:"
      ]
    },
    {
      "cell_type": "code",
      "execution_count": 27,
      "metadata": {
        "colab": {
          "base_uri": "https://localhost:8080/",
          "height": 70
        },
        "id": "b_jtAVlCGuYS",
        "outputId": "dc11b4eb-0f3a-4291-ae2f-7166f9075379"
      },
      "outputs": [
        {
          "data": {
            "application/vnd.google.colaboratory.intrinsic+json": {
              "type": "string"
            },
            "text/plain": [
              "'In the 22nd century, a paraplegic Marine is dispatched to the moon Pandora on a unique mission, but becomes torn between following orders and protecting an alien civilization. Action Adventure Fantasy ScienceFiction cultureclash future spacewar spacecolony society spacetravel futuristic romance space alien tribe alienplanet cgi marine soldier battle loveaffair antiwar powerrelations mindandsoul 3d SamWorthington ZoeSaldana SigourneyWeaver JamesCameron'"
            ]
          },
          "execution_count": 27,
          "metadata": {},
          "output_type": "execute_result"
        }
      ],
      "source": [
        "new_df['tags'][0]"
      ]
    },
    {
      "cell_type": "markdown",
      "metadata": {
        "id": "46WDnpETGx1x"
      },
      "source": [
        "## Build of the recommender system\n",
        "\n",
        "We will use KNN algorithm to build the recommender system."
      ]
    },
    {
      "cell_type": "markdown",
      "metadata": {
        "id": "ATFgV_O2UYCi"
      },
      "source": [
        "### Text vectorization\n",
        "\n",
        "Before entering the model let's proceed with the text vectorization."
      ]
    },
    {
      "cell_type": "code",
      "execution_count": 28,
      "metadata": {
        "id": "HfIbMNEHG11K"
      },
      "outputs": [],
      "source": [
        "cv = CountVectorizer(max_features=5000 ,stop_words='english')"
      ]
    },
    {
      "cell_type": "code",
      "execution_count": 29,
      "metadata": {
        "id": "Bsr_XJjBG8Cl"
      },
      "outputs": [],
      "source": [
        "vectors = cv.fit_transform(new_df['tags']).toarray()"
      ]
    },
    {
      "cell_type": "code",
      "execution_count": 30,
      "metadata": {
        "colab": {
          "base_uri": "https://localhost:8080/"
        },
        "id": "tNHDUDiQG83L",
        "outputId": "994ff165-d0f3-47a8-ba66-09748b262cb7"
      },
      "outputs": [
        {
          "data": {
            "text/plain": [
              "(4806, 5000)"
            ]
          },
          "execution_count": 30,
          "metadata": {},
          "output_type": "execute_result"
        }
      ],
      "source": [
        "vectors.shape"
      ]
    },
    {
      "cell_type": "markdown",
      "metadata": {
        "id": "evRgMVa6G_it"
      },
      "source": [
        "If you wish to know the 5000 most frequently used words you can use cv.get_feature_names()"
      ]
    },
    {
      "cell_type": "code",
      "execution_count": 37,
      "metadata": {
        "colab": {
          "base_uri": "https://localhost:8080/"
        },
        "id": "5F-pz1aHUnuh",
        "outputId": "5737f04a-6ea3-429f-be22-7d43e8dbc0e8"
      },
      "outputs": [
        {
          "name": "stderr",
          "output_type": "stream",
          "text": [
            "/usr/local/lib/python3.7/dist-packages/sklearn/utils/deprecation.py:87: FutureWarning: Function get_feature_names is deprecated; get_feature_names is deprecated in 1.0 and will be removed in 1.2. Please use get_feature_names_out instead.\n",
            "  warnings.warn(msg, category=FutureWarning)\n"
          ]
        },
        {
          "data": {
            "text/plain": [
              "['000',\n",
              " '007',\n",
              " '10',\n",
              " '100',\n",
              " '11',\n",
              " '12',\n",
              " '13',\n",
              " '14',\n",
              " '15',\n",
              " '16',\n",
              " '17',\n",
              " '18',\n",
              " '18th',\n",
              " '19',\n",
              " '1930s',\n",
              " '1940s',\n",
              " '1950',\n",
              " '1950s',\n",
              " '1960s',\n",
              " '1970s',\n",
              " '1980',\n",
              " '1980s',\n",
              " '1985',\n",
              " '1990s',\n",
              " '1999',\n",
              " '19th',\n",
              " '19thcentury',\n",
              " '20',\n",
              " '200',\n",
              " '2009',\n",
              " '20th',\n",
              " '24',\n",
              " '25',\n",
              " '30',\n",
              " '300',\n",
              " '3d',\n",
              " '40',\n",
              " '50',\n",
              " '500',\n",
              " '60',\n",
              " '60s',\n",
              " '70',\n",
              " '70s',\n",
              " 'aaron',\n",
              " 'aaroneckhart',\n",
              " 'abandoned',\n",
              " 'abducted',\n",
              " 'abigailbreslin',\n",
              " 'abilities',\n",
              " 'ability',\n",
              " 'able',\n",
              " 'aboard',\n",
              " 'abuse',\n",
              " 'abusive',\n",
              " 'academy',\n",
              " 'accept',\n",
              " 'accepted',\n",
              " 'accepts',\n",
              " 'access',\n",
              " 'accident',\n",
              " 'accidental',\n",
              " 'accidentally',\n",
              " 'accompanied',\n",
              " 'accomplish',\n",
              " 'account',\n",
              " 'accountant',\n",
              " 'accused',\n",
              " 'ace',\n",
              " 'achieve',\n",
              " 'act',\n",
              " 'acting',\n",
              " 'action',\n",
              " 'actionhero',\n",
              " 'actions',\n",
              " 'activist',\n",
              " 'activities',\n",
              " 'activity',\n",
              " 'actor',\n",
              " 'actors',\n",
              " 'actress',\n",
              " 'acts',\n",
              " 'actual',\n",
              " 'actually',\n",
              " 'adam',\n",
              " 'adams',\n",
              " 'adamsandler',\n",
              " 'adamshankman',\n",
              " 'adaptation',\n",
              " 'adapted',\n",
              " 'addict',\n",
              " 'addicted',\n",
              " 'addiction',\n",
              " 'adolescence',\n",
              " 'adolescent',\n",
              " 'adopt',\n",
              " 'adopted',\n",
              " 'adoption',\n",
              " 'adopts',\n",
              " 'adrienbrody',\n",
              " 'adult',\n",
              " 'adultanimation',\n",
              " 'adultery',\n",
              " 'adulthood',\n",
              " 'adults',\n",
              " 'advantage',\n",
              " 'adventure',\n",
              " 'adventures',\n",
              " 'advertising',\n",
              " 'advice',\n",
              " 'affair',\n",
              " 'affairs',\n",
              " 'affection',\n",
              " 'affections',\n",
              " 'afghanistan',\n",
              " 'africa',\n",
              " 'african',\n",
              " 'africanamerican',\n",
              " 'aftercreditsstinger',\n",
              " 'afterlife',\n",
              " 'aftermath',\n",
              " 'age',\n",
              " 'aged',\n",
              " 'agedifference',\n",
              " 'agency',\n",
              " 'agenda',\n",
              " 'agent',\n",
              " 'agents',\n",
              " 'aggressive',\n",
              " 'aging',\n",
              " 'ago',\n",
              " 'agree',\n",
              " 'agrees',\n",
              " 'ahead',\n",
              " 'aid',\n",
              " 'aided',\n",
              " 'aids',\n",
              " 'ailing',\n",
              " 'air',\n",
              " 'airplane',\n",
              " 'airplanecrash',\n",
              " 'airport',\n",
              " 'aka',\n",
              " 'al',\n",
              " 'alabama',\n",
              " 'alan',\n",
              " 'alaska',\n",
              " 'albert',\n",
              " 'alcohol',\n",
              " 'alcoholic',\n",
              " 'alcoholism',\n",
              " 'alecbaldwin',\n",
              " 'alex',\n",
              " 'alfredhitchcock',\n",
              " 'ali',\n",
              " 'alice',\n",
              " 'alien',\n",
              " 'alieninvasion',\n",
              " 'alienlife',\n",
              " 'aliens',\n",
              " 'alike',\n",
              " 'alive',\n",
              " 'allen',\n",
              " 'alliance',\n",
              " 'allied',\n",
              " 'allies',\n",
              " 'allow',\n",
              " 'allowing',\n",
              " 'allows',\n",
              " 'ally',\n",
              " 'alongside',\n",
              " 'alpacino',\n",
              " 'alpha',\n",
              " 'alter',\n",
              " 'alternate',\n",
              " 'alternative',\n",
              " 'alzheimer',\n",
              " 'amanda',\n",
              " 'amandapeet',\n",
              " 'amandaseyfried',\n",
              " 'amateur',\n",
              " 'amazing',\n",
              " 'ambassador',\n",
              " 'ambition',\n",
              " 'ambitious',\n",
              " 'ambulance',\n",
              " 'ambush',\n",
              " 'america',\n",
              " 'american',\n",
              " 'americanabroad',\n",
              " 'americanfootball',\n",
              " 'americans',\n",
              " 'amid',\n",
              " 'amidst',\n",
              " 'amnesia',\n",
              " 'amp',\n",
              " 'amsterdam',\n",
              " 'amusementpark',\n",
              " 'amy',\n",
              " 'amyadams',\n",
              " 'amysmart',\n",
              " 'ana',\n",
              " 'anakin',\n",
              " 'analyst',\n",
              " 'anarchiccomedy',\n",
              " 'ancient',\n",
              " 'ancientrome',\n",
              " 'ancientworld',\n",
              " 'anderson',\n",
              " 'andiemacdowell',\n",
              " 'andrew',\n",
              " 'android',\n",
              " 'andy',\n",
              " 'andygarcía',\n",
              " 'angel',\n",
              " 'angelabassett',\n",
              " 'angeles',\n",
              " 'angelinajolie',\n",
              " 'angels',\n",
              " 'anger',\n",
              " 'anglee',\n",
              " 'angry',\n",
              " 'animal',\n",
              " 'animalattack',\n",
              " 'animalhorror',\n",
              " 'animals',\n",
              " 'animated',\n",
              " 'animation',\n",
              " 'anna',\n",
              " 'annafaris',\n",
              " 'anne',\n",
              " 'annehathaway',\n",
              " 'annemoss',\n",
              " 'annettebening',\n",
              " 'annie',\n",
              " 'anniversary',\n",
              " 'annual',\n",
              " 'answer',\n",
              " 'answers',\n",
              " 'ant',\n",
              " 'anthology',\n",
              " 'anthony',\n",
              " 'anthonyanderson',\n",
              " 'anthonyhopkins',\n",
              " 'anthropomorphism',\n",
              " 'anti',\n",
              " 'antics',\n",
              " 'antihero',\n",
              " 'antoinefuqua',\n",
              " 'antoniobanderas',\n",
              " 'antonyelchin',\n",
              " 'apart',\n",
              " 'apartheid',\n",
              " 'apartment',\n",
              " 'ape',\n",
              " 'apes',\n",
              " 'apocalypse',\n",
              " 'apocalyptic',\n",
              " 'apparent',\n",
              " 'apparently',\n",
              " 'appear',\n",
              " 'appears',\n",
              " 'apple',\n",
              " 'appointed',\n",
              " 'apprentice',\n",
              " 'approach',\n",
              " 'approaches',\n",
              " 'approaching',\n",
              " 'april',\n",
              " 'aquarium',\n",
              " 'arab',\n",
              " 'arch',\n",
              " 'archaeologist',\n",
              " 'architect',\n",
              " 'arctic',\n",
              " 'area',\n",
              " 'aren',\n",
              " 'arena',\n",
              " 'argument',\n",
              " 'arise',\n",
              " 'aristocrat',\n",
              " 'armed',\n",
              " 'arms',\n",
              " 'army',\n",
              " 'arnold',\n",
              " 'arnoldschwarzenegger',\n",
              " 'arrangedmarriage',\n",
              " 'arrest',\n",
              " 'arrested',\n",
              " 'arrival',\n",
              " 'arrive',\n",
              " 'arrives',\n",
              " 'arriving',\n",
              " 'arrogant',\n",
              " 'art',\n",
              " 'arthur',\n",
              " 'artificialintelligence',\n",
              " 'artist',\n",
              " 'artistic',\n",
              " 'artists',\n",
              " 'arts',\n",
              " 'ashley',\n",
              " 'ashleyjudd',\n",
              " 'ashtonkutcher',\n",
              " 'asia',\n",
              " 'asian',\n",
              " 'aside',\n",
              " 'ask',\n",
              " 'asked',\n",
              " 'asking',\n",
              " 'asks',\n",
              " 'aspirations',\n",
              " 'aspiring',\n",
              " 'assassin',\n",
              " 'assassinate',\n",
              " 'assassination',\n",
              " 'assassins',\n",
              " 'assault',\n",
              " 'assigned',\n",
              " 'assignment',\n",
              " 'assistant',\n",
              " 'assumes',\n",
              " 'asteroid',\n",
              " 'astronaut',\n",
              " 'astronauts',\n",
              " 'asylum',\n",
              " 'athlete',\n",
              " 'atomicbomb',\n",
              " 'attack',\n",
              " 'attacked',\n",
              " 'attacks',\n",
              " 'attempt',\n",
              " 'attempting',\n",
              " 'attempts',\n",
              " 'attending',\n",
              " 'attends',\n",
              " 'attention',\n",
              " 'attitude',\n",
              " 'attorney',\n",
              " 'attracted',\n",
              " 'attraction',\n",
              " 'attractive',\n",
              " 'audience',\n",
              " 'audiences',\n",
              " 'audition',\n",
              " 'august',\n",
              " 'aunt',\n",
              " 'austin',\n",
              " 'australia',\n",
              " 'australian',\n",
              " 'author',\n",
              " 'authorities',\n",
              " 'authority',\n",
              " 'autism',\n",
              " 'auto',\n",
              " 'automobileracing',\n",
              " 'avenge',\n",
              " 'average',\n",
              " 'avoid',\n",
              " 'awaits',\n",
              " 'awakens',\n",
              " 'award',\n",
              " 'away',\n",
              " 'awry',\n",
              " 'ax',\n",
              " 'babe',\n",
              " 'baby',\n",
              " 'bachelor',\n",
              " 'backdrop',\n",
              " 'backed',\n",
              " 'background',\n",
              " 'backgrounds',\n",
              " 'bad',\n",
              " 'badly',\n",
              " 'bag',\n",
              " 'bahamas',\n",
              " 'bail',\n",
              " 'balance',\n",
              " 'ball',\n",
              " 'ballet',\n",
              " 'baltimore',\n",
              " 'band',\n",
              " 'bandits',\n",
              " 'bangkok',\n",
              " 'banished',\n",
              " 'bank',\n",
              " 'banker',\n",
              " 'bankrobber',\n",
              " 'bankrobbery',\n",
              " 'bar',\n",
              " 'barely',\n",
              " 'bargained',\n",
              " 'barn',\n",
              " 'barney',\n",
              " 'barry',\n",
              " 'barrylevinson',\n",
              " 'bars',\n",
              " 'base',\n",
              " 'baseball',\n",
              " 'based',\n",
              " 'basedoncomicbook',\n",
              " 'basedongraphicnovel',\n",
              " 'basedonnovel',\n",
              " 'basedonplay',\n",
              " 'basedonstagemusical',\n",
              " 'basedontrueevents',\n",
              " 'basedontruestory',\n",
              " 'basedontvseries',\n",
              " 'basedonvideogame',\n",
              " 'basedonyoungadultnovel',\n",
              " 'basement',\n",
              " 'basketball',\n",
              " 'batman',\n",
              " 'battle',\n",
              " 'battlefield',\n",
              " 'battles',\n",
              " 'battling',\n",
              " 'bay',\n",
              " 'beach',\n",
              " 'bear',\n",
              " 'bears',\n",
              " 'beast',\n",
              " 'beasts',\n",
              " 'beat',\n",
              " 'beating',\n",
              " 'beautiful',\n",
              " 'beautifulwoman',\n",
              " 'beauty',\n",
              " 'becky',\n",
              " 'becominganadult',\n",
              " 'bed',\n",
              " 'bedroom',\n",
              " 'beer',\n",
              " 'befriends',\n",
              " 'began',\n",
              " 'begin',\n",
              " 'beginning',\n",
              " 'begins',\n",
              " 'behavior',\n",
              " 'beings',\n",
              " 'beliefs',\n",
              " 'believe',\n",
              " 'believed',\n",
              " 'believes',\n",
              " 'believing',\n",
              " 'beloved',\n",
              " 'ben',\n",
              " 'benaffleck',\n",
              " 'beneath',\n",
              " 'benfoster',\n",
              " 'beniciodeltoro',\n",
              " 'benjamin',\n",
              " 'benjaminbratt',\n",
              " 'benkingsley',\n",
              " 'bennett',\n",
              " 'benstiller',\n",
              " 'bent',\n",
              " 'berlin',\n",
              " 'best',\n",
              " 'bestfriend',\n",
              " 'bestfriendsinlove',\n",
              " 'bet',\n",
              " 'beth',\n",
              " 'betrayal',\n",
              " 'betrayed',\n",
              " 'bettemidler',\n",
              " 'better',\n",
              " 'betty',\n",
              " 'beverly',\n",
              " 'bible',\n",
              " 'big',\n",
              " 'bigger',\n",
              " 'biggest',\n",
              " 'biker',\n",
              " 'bikini',\n",
              " 'billhader',\n",
              " 'billionaire',\n",
              " 'billmurray',\n",
              " 'billnighy',\n",
              " 'billpaxton',\n",
              " 'billpullman',\n",
              " 'billy',\n",
              " 'billybobthornton',\n",
              " 'billycrudup',\n",
              " 'billycrystal',\n",
              " 'biography',\n",
              " 'bird',\n",
              " 'birth',\n",
              " 'birthday',\n",
              " 'bisexual',\n",
              " 'bishop',\n",
              " 'bit',\n",
              " 'bite',\n",
              " 'bitter',\n",
              " 'bizarre',\n",
              " 'black',\n",
              " 'blackmagic',\n",
              " 'blackmail',\n",
              " 'blackpeople',\n",
              " 'blacksmith',\n",
              " 'blade',\n",
              " 'blame',\n",
              " 'blind',\n",
              " 'bliss',\n",
              " 'block',\n",
              " 'blonde',\n",
              " 'blood',\n",
              " 'bloodsplatter',\n",
              " 'bloodthirsty',\n",
              " 'bloody',\n",
              " 'blow',\n",
              " 'blue',\n",
              " 'board',\n",
              " 'boarding',\n",
              " 'boardingschool',\n",
              " 'boat',\n",
              " 'bob',\n",
              " 'bobby',\n",
              " 'bobbyfarrelly',\n",
              " 'bobhoskins',\n",
              " 'bodies',\n",
              " 'body',\n",
              " 'bodyguard',\n",
              " 'bold',\n",
              " 'bollywood',\n",
              " 'bomb',\n",
              " 'bombing',\n",
              " 'bond',\n",
              " 'bonds',\n",
              " 'bone',\n",
              " 'book',\n",
              " 'books',\n",
              " 'border',\n",
              " 'bored',\n",
              " 'boredom',\n",
              " 'boring',\n",
              " 'born',\n",
              " 'boss',\n",
              " 'boston',\n",
              " 'botched',\n",
              " 'bound',\n",
              " 'boundaries',\n",
              " 'bounty',\n",
              " 'bountyhunter',\n",
              " 'bourne',\n",
              " 'box',\n",
              " 'boxer',\n",
              " 'boxing',\n",
              " 'boy',\n",
              " 'boyfriend',\n",
              " 'boys',\n",
              " 'bradleycooper',\n",
              " 'bradpitt',\n",
              " 'brain',\n",
              " 'brand',\n",
              " 'brave',\n",
              " 'bravery',\n",
              " 'brazil',\n",
              " 'brazilian',\n",
              " 'break',\n",
              " 'breakdown',\n",
              " 'breaking',\n",
              " 'breaks',\n",
              " 'brendanfraser',\n",
              " 'brendangleeson',\n",
              " 'brent',\n",
              " 'brettratner',\n",
              " 'brian',\n",
              " 'briandepalma',\n",
              " 'bride',\n",
              " 'bridesmaid',\n",
              " 'bridge',\n",
              " 'brief',\n",
              " 'brielarson',\n",
              " 'brien',\n",
              " 'bright',\n",
              " 'brilliant',\n",
              " 'bring',\n",
              " 'bringing',\n",
              " 'brings',\n",
              " 'brink',\n",
              " 'britain',\n",
              " 'british',\n",
              " 'britishsecretservice',\n",
              " 'brittanymurphy',\n",
              " 'broadway',\n",
              " 'broke',\n",
              " 'broken',\n",
              " 'broker',\n",
              " 'bronx',\n",
              " 'brooklyn',\n",
              " 'brooks',\n",
              " 'broom',\n",
              " 'brothel',\n",
              " 'brother',\n",
              " 'brotherbrotherrelationship',\n",
              " 'brothers',\n",
              " 'brothersisterrelationship',\n",
              " 'brought',\n",
              " 'brown',\n",
              " 'bruce',\n",
              " 'brucegreenwood',\n",
              " 'brucewillis',\n",
              " 'brutal',\n",
              " 'brutality',\n",
              " 'brutally',\n",
              " 'bryansinger',\n",
              " 'buck',\n",
              " 'buddies',\n",
              " 'buddy',\n",
              " 'buddycomedy',\n",
              " 'budget',\n",
              " 'build',\n",
              " 'building',\n",
              " 'built',\n",
              " 'bully',\n",
              " 'bullying',\n",
              " 'bumbling',\n",
              " 'bunny',\n",
              " 'burglar',\n",
              " 'buried',\n",
              " 'bus',\n",
              " 'bush',\n",
              " 'business',\n",
              " 'businessman',\n",
              " 'bust',\n",
              " 'busy',\n",
              " 'butcher',\n",
              " 'butler',\n",
              " 'buy',\n",
              " 'cabin',\n",
              " 'caesar',\n",
              " 'cage',\n",
              " 'cairo',\n",
              " 'cal',\n",
              " 'california',\n",
              " 'called',\n",
              " 'calls',\n",
              " 'calvin',\n",
              " 'camcorder',\n",
              " 'came',\n",
              " 'camera',\n",
              " 'cameraman',\n",
              " 'cameras',\n",
              " 'camerondiaz',\n",
              " 'camp',\n",
              " 'campaign',\n",
              " 'campbell',\n",
              " 'camping',\n",
              " 'campus',\n",
              " 'canada',\n",
              " 'canadian',\n",
              " 'cancer',\n",
              " 'candidate',\n",
              " 'candy',\n",
              " 'cannibal',\n",
              " 'capable',\n",
              " 'capital',\n",
              " 'capitalism',\n",
              " 'capt',\n",
              " 'captain',\n",
              " 'captive',\n",
              " 'capture',\n",
              " 'captured',\n",
              " 'captures',\n",
              " 'car',\n",
              " 'caraccident',\n",
              " 'carchase',\n",
              " 'carcrash',\n",
              " 'card',\n",
              " 'care',\n",
              " 'career',\n",
              " 'carefree',\n",
              " 'caretaker',\n",
              " 'caribbean',\n",
              " 'carjourney',\n",
              " 'carl',\n",
              " 'carlagugino',\n",
              " 'carmen',\n",
              " 'carol',\n",
              " 'carolina',\n",
              " 'carrace',\n",
              " 'carrie',\n",
              " 'carry',\n",
              " 'carrying',\n",
              " 'cars',\n",
              " 'cartel',\n",
              " 'carter',\n",
              " 'cartoon',\n",
              " 'caryelwes',\n",
              " 'case',\n",
              " 'caseyaffleck',\n",
              " 'cash',\n",
              " 'casino',\n",
              " 'cast',\n",
              " 'castle',\n",
              " 'cat',\n",
              " 'cataclysm',\n",
              " 'catastrophe',\n",
              " 'catch',\n",
              " 'catches',\n",
              " 'cateblanchett',\n",
              " 'catherinedeneuve',\n",
              " 'catherinekeener',\n",
              " 'catherinezeta',\n",
              " 'catholic',\n",
              " 'catholicism',\n",
              " 'cattle',\n",
              " 'caught',\n",
              " 'cause',\n",
              " 'caused',\n",
              " 'causes',\n",
              " 'causing',\n",
              " 'cavalry',\n",
              " 'cave',\n",
              " 'cavemen',\n",
              " 'celebrate',\n",
              " 'celebrated',\n",
              " 'celebration',\n",
              " 'celebrity',\n",
              " 'cellphone',\n",
              " 'cemetery',\n",
              " 'center',\n",
              " 'centered',\n",
              " 'centers',\n",
              " 'central',\n",
              " 'centuries',\n",
              " 'century',\n",
              " 'ceremony',\n",
              " 'certain',\n",
              " 'chain',\n",
              " 'chainsaw',\n",
              " 'challenge',\n",
              " 'challenged',\n",
              " 'challenges',\n",
              " 'champion',\n",
              " 'championship',\n",
              " 'chance',\n",
              " 'change',\n",
              " 'changed',\n",
              " 'changes',\n",
              " 'changing',\n",
              " 'channingtatum',\n",
              " 'chaos',\n",
              " 'chaotic',\n",
              " 'chapter',\n",
              " 'character',\n",
              " 'characters',\n",
              " 'charge',\n",
              " 'charged',\n",
              " 'charismatic',\n",
              " 'charles',\n",
              " 'charlie',\n",
              " 'charliesheen',\n",
              " 'charlizetheron',\n",
              " 'charlotte',\n",
              " 'charm',\n",
              " 'charming',\n",
              " 'chase',\n",
              " 'chased',\n",
              " 'chases',\n",
              " 'chauffeur',\n",
              " 'chazzpalminteri',\n",
              " 'cheating',\n",
              " 'cheerleader',\n",
              " 'chef',\n",
              " 'chemical',\n",
              " 'cher',\n",
              " 'chicago',\n",
              " 'chicken',\n",
              " 'chief',\n",
              " 'child',\n",
              " 'childabuse',\n",
              " 'childhero',\n",
              " 'childhood',\n",
              " 'children',\n",
              " 'chilling',\n",
              " 'china',\n",
              " 'chinese',\n",
              " 'chip',\n",
              " 'chiwetelejiofor',\n",
              " 'chloëgracemoretz',\n",
              " 'chloësevigny',\n",
              " 'chocolate',\n",
              " 'choice',\n",
              " 'choices',\n",
              " 'choose',\n",
              " 'chosen',\n",
              " 'chowyun',\n",
              " 'chris',\n",
              " 'chriscolumbus',\n",
              " 'chriscooper',\n",
              " 'chrisevans',\n",
              " 'chrishemsworth',\n",
              " 'chrisklein',\n",
              " 'chrispine',\n",
              " 'chrisrock',\n",
              " 'christ',\n",
              " 'christian',\n",
              " 'christianbale',\n",
              " 'christianity',\n",
              " 'christianslater',\n",
              " 'christinaapplegate',\n",
              " 'christinaricci',\n",
              " 'christine',\n",
              " 'christmas',\n",
              " 'christmasparty',\n",
              " 'christopher',\n",
              " 'christopherlloyd',\n",
              " 'christophernolan',\n",
              " 'christopherplummer',\n",
              " 'christopherwalken',\n",
              " 'christophwaltz',\n",
              " 'chrisweitz',\n",
              " 'chronicle',\n",
              " 'chronicles',\n",
              " 'chuck',\n",
              " 'church',\n",
              " 'cia',\n",
              " 'cigarettesmoking',\n",
              " 'cillianmurphy',\n",
              " 'cindy',\n",
              " 'cinema',\n",
              " 'circle',\n",
              " 'circuit',\n",
              " 'circumstances',\n",
              " 'circus',\n",
              " 'cities',\n",
              " 'citizens',\n",
              " 'city',\n",
              " 'civil',\n",
              " 'civilian',\n",
              " 'civilization',\n",
              " 'civilwar',\n",
              " 'claim',\n",
              " 'claims',\n",
              " 'claire',\n",
              " 'clairedanes',\n",
              " 'clan',\n",
              " 'clark',\n",
              " 'clash',\n",
              " 'class',\n",
              " 'classes',\n",
              " 'classic',\n",
              " 'classmate',\n",
              " 'classmates',\n",
              " 'classroom',\n",
              " 'claudevandamme',\n",
              " 'clay',\n",
              " 'clean',\n",
              " 'clear',\n",
              " 'clerk',\n",
              " 'client',\n",
              " 'clients',\n",
              " 'climate',\n",
              " 'climbing',\n",
              " 'clinteastwood',\n",
              " 'clique',\n",
              " 'cliveowen',\n",
              " 'clock',\n",
              " 'clone',\n",
              " 'cloning',\n",
              " 'close',\n",
              " 'closed',\n",
              " 'closer',\n",
              " 'club',\n",
              " 'clubs',\n",
              " 'clues',\n",
              " 'clutches',\n",
              " 'coach',\n",
              " 'coast',\n",
              " 'cocaine',\n",
              " 'code',\n",
              " 'cody',\n",
              " 'coffin',\n",
              " 'cohen',\n",
              " 'col',\n",
              " 'cold',\n",
              " 'coldwar',\n",
              " 'cole',\n",
              " 'colin',\n",
              " 'colinfarrell',\n",
              " 'colinfirth',\n",
              " 'collapse',\n",
              " 'colleague',\n",
              " 'colleagues',\n",
              " 'collect',\n",
              " 'collection',\n",
              " 'collector',\n",
              " 'college',\n",
              " 'collide',\n",
              " 'collision',\n",
              " 'colonel',\n",
              " 'colony',\n",
              " 'color',\n",
              " 'colorado',\n",
              " 'colorful',\n",
              " 'coma',\n",
              " 'combat',\n",
              " 'combined',\n",
              " 'come',\n",
              " 'comeback',\n",
              " 'comedian',\n",
              " 'comedic',\n",
              " 'comedy',\n",
              " 'comes',\n",
              " 'comet',\n",
              " 'comfort',\n",
              " 'comic',\n",
              " 'comics',\n",
              " 'coming',\n",
              " 'comingofage',\n",
              " 'comingout',\n",
              " 'command',\n",
              " 'commander',\n",
              " 'commercial',\n",
              " 'commit',\n",
              " 'commitment',\n",
              " 'committed',\n",
              " 'common',\n",
              " 'communication',\n",
              " 'community',\n",
              " 'companion',\n",
              " 'company',\n",
              " 'compete',\n",
              " 'competing',\n",
              " 'competition',\n",
              " 'complete',\n",
              " 'completely',\n",
              " 'complex',\n",
              " 'complicated',\n",
              " 'complications',\n",
              " 'composer',\n",
              " 'computer',\n",
              " 'computervirus',\n",
              " 'conan',\n",
              " 'concert',\n",
              " 'conclusion',\n",
              " 'condition',\n",
              " 'confederate',\n",
              " 'confession',\n",
              " 'confidence',\n",
              " 'confident',\n",
              " 'conflict',\n",
              " 'confront',\n",
              " 'confronted',\n",
              " 'confronts',\n",
              " 'confused',\n",
              " 'congress',\n",
              " 'conman',\n",
              " 'connected',\n",
              " 'connection',\n",
              " 'connell',\n",
              " 'connor',\n",
              " 'conquer',\n",
              " 'conscience',\n",
              " 'consequences',\n",
              " 'conservative',\n",
              " 'considered',\n",
              " 'conspiracy',\n",
              " 'conspire',\n",
              " 'constant',\n",
              " 'constantly',\n",
              " 'construction',\n",
              " 'consumed',\n",
              " 'contact',\n",
              " 'contain',\n",
              " 'contemporary',\n",
              " 'contend',\n",
              " 'contest',\n",
              " 'continue',\n",
              " 'continues',\n",
              " 'continuing',\n",
              " 'contract',\n",
              " 'control',\n",
              " 'controlled',\n",
              " 'controlling',\n",
              " 'controversial',\n",
              " 'convention',\n",
              " 'converge',\n",
              " 'convict',\n",
              " 'convicted',\n",
              " 'convince',\n",
              " 'convinced',\n",
              " 'convinces',\n",
              " 'cook',\n",
              " 'cooking',\n",
              " 'cool',\n",
              " 'cooper',\n",
              " 'cop',\n",
              " 'cope',\n",
              " 'cops',\n",
              " 'core',\n",
              " 'corner',\n",
              " 'corners',\n",
              " 'corporate',\n",
              " 'corporation',\n",
              " 'corpse',\n",
              " 'corrupt',\n",
              " 'corruption',\n",
              " 'cost',\n",
              " ...]"
            ]
          },
          "execution_count": 37,
          "metadata": {},
          "output_type": "execute_result"
        }
      ],
      "source": [
        "cv.get_feature_names()"
      ]
    },
    {
      "cell_type": "markdown",
      "metadata": {
        "id": "5KqSwtSpHAKY"
      },
      "source": [
        "###  Fingind the cosine_similarity among the movies \n",
        "\n",
        "Let's find the cosine_similarity among the movies. "
      ]
    },
    {
      "cell_type": "code",
      "execution_count": 38,
      "metadata": {
        "colab": {
          "base_uri": "https://localhost:8080/"
        },
        "id": "iRLz7l5gHEbM",
        "outputId": "d13753a2-634e-4422-d25e-05313dd85386"
      },
      "outputs": [
        {
          "data": {
            "text/plain": [
              "(4806, 4806)"
            ]
          },
          "execution_count": 38,
          "metadata": {},
          "output_type": "execute_result"
        }
      ],
      "source": [
        "cosine_similarity(vectors).shape"
      ]
    },
    {
      "cell_type": "code",
      "execution_count": 32,
      "metadata": {
        "id": "o5l2-mz4HJAl"
      },
      "outputs": [],
      "source": [
        "similarity = cosine_similarity(vectors)"
      ]
    },
    {
      "cell_type": "code",
      "execution_count": 33,
      "metadata": {
        "colab": {
          "base_uri": "https://localhost:8080/"
        },
        "id": "JYAUzTEfHKzw",
        "outputId": "d47838d1-ca08-4bf3-e7bd-3fcbb116d192"
      },
      "outputs": [
        {
          "data": {
            "text/plain": [
              "array([1.        , 0.08964215, 0.05976143, ..., 0.02519763, 0.02817181,\n",
              "       0.        ])"
            ]
          },
          "execution_count": 33,
          "metadata": {},
          "output_type": "execute_result"
        }
      ],
      "source": [
        "similarity[0]"
      ]
    },
    {
      "cell_type": "code",
      "execution_count": 34,
      "metadata": {
        "colab": {
          "base_uri": "https://localhost:8080/"
        },
        "id": "t9C09g0bHMto",
        "outputId": "0b847c69-f194-4f6b-a8c1-7e8d04d8e5ce"
      },
      "outputs": [
        {
          "data": {
            "text/plain": [
              "[(539, 0.26089696604360174),\n",
              " (1194, 0.2581988897471611),\n",
              " (507, 0.25302403842552984),\n",
              " (260, 0.25110592822973776),\n",
              " (1216, 0.24944382578492943)]"
            ]
          },
          "execution_count": 34,
          "metadata": {},
          "output_type": "execute_result"
        }
      ],
      "source": [
        "sorted(list(enumerate(similarity[0])),reverse =True , key = lambda x:x[1])[1:6]"
      ]
    },
    {
      "cell_type": "markdown",
      "metadata": {
        "id": "JVS5LLNOHPKG"
      },
      "source": [
        "### Creation of recommendation function\n",
        "\n",
        "Finally, create a recommendation function based on the cosine_similarity. This function should recommend the 5 most similar movies."
      ]
    },
    {
      "cell_type": "code",
      "execution_count": 35,
      "metadata": {
        "id": "z4EPT-YcHSr-"
      },
      "outputs": [],
      "source": [
        "def recommend(movie):\n",
        "    movie_index = new_df[new_df['title'] == movie].index[0] ##fetching the movie index\n",
        "    distances = similarity[movie_index]\n",
        "    movie_list = sorted(list(enumerate( distances)),reverse =True , key = lambda x:x[1])[1:6]\n",
        "    \n",
        "    for i in movie_list:\n",
        "        print(new_df.iloc[i[0]].title)"
      ]
    },
    {
      "cell_type": "markdown",
      "metadata": {
        "id": "boWGnxxSHVYt"
      },
      "source": [
        "### Recommender system check\n",
        "\n",
        "Check your recommender system by introducing a movie. Run to see the recommendations."
      ]
    },
    {
      "cell_type": "code",
      "execution_count": 36,
      "metadata": {
        "colab": {
          "base_uri": "https://localhost:8080/"
        },
        "id": "oFb3I8wDHUps",
        "outputId": "06eb3dd5-1694-4cd4-8a9d-797f0071acc2"
      },
      "outputs": [
        {
          "name": "stdout",
          "output_type": "stream",
          "text": [
            "Raise the Titanic\n",
            "Captain Phillips\n",
            "The Notebook\n",
            "In the Heart of the Sea\n",
            "Ghost Ship\n"
          ]
        }
      ],
      "source": [
        "recommend('Titanic')"
      ]
    }
  ],
  "metadata": {
    "colab": {
      "collapsed_sections": [],
      "provenance": [],
      "toc_visible": true
    },
    "kernelspec": {
      "display_name": "Python 3.8.13 64-bit ('shims')",
      "language": "python",
      "name": "python3"
    },
    "language_info": {
      "name": "python",
      "version": "3.8.13"
    },
    "vscode": {
      "interpreter": {
        "hash": "9ac03a0a6051494cc606d484d27d20fce22fb7b4d169f583271e11d5ba46a56e"
      }
    }
  },
  "nbformat": 4,
  "nbformat_minor": 0
}
